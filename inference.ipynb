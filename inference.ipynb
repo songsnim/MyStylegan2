{
 "cells": [
  {
   "cell_type": "markdown",
   "metadata": {},
   "source": [
    "# Setup"
   ]
  },
  {
   "cell_type": "code",
   "execution_count": 9,
   "metadata": {},
   "outputs": [
    {
     "name": "stdout",
     "output_type": "stream",
     "text": [
      "The autoreload extension is already loaded. To reload it, use:\n",
      "  %reload_ext autoreload\n",
      "오늘 날짜 : 2022-05-16\n",
      "cuda device : cuda:2\n"
     ]
    }
   ],
   "source": [
    "%load_ext autoreload\n",
    "%autoreload 2\n",
    "\n",
    "import numpy as np\n",
    "import matplotlib.pyplot as plt\n",
    "\n",
    "import torch\n",
    "from torch import nn\n",
    "import torch.nn.functional as F\n",
    "\n",
    "import torchvision\n",
    "from torchvision.datasets import ImageFolder\n",
    "import torch.utils.data as data\n",
    "from torch.utils.data import Dataset, DataLoader\n",
    "from my_utils.folder2lmdb import ImageFolderLMDB\n",
    "from torchvision import transforms\n",
    "\n",
    "import time\n",
    "import datetime\n",
    "\n",
    "today = datetime.date.today()\n",
    "device = torch.device(f\"cuda:2\" if torch.cuda.is_available() else 'cpu')\n",
    "torch.cuda.set_device(device) # change allocation of current GPU\n",
    "print(f'오늘 날짜 : {today}')\n",
    "print(f'cuda device : {device}')"
   ]
  },
  {
   "cell_type": "code",
   "execution_count": 10,
   "metadata": {},
   "outputs": [],
   "source": [
    "def num_to_label(num):\n",
    "    return 'smile' if num == 1 else 'non-smile'\n",
    "\n",
    "def accumulate(model1, model2, decay=0.999): # g_ema(exponential moving average) 계산을 위한 함수\n",
    "    par1 = dict(model1.named_parameters())\n",
    "    par2 = dict(model2.named_parameters())\n",
    "\n",
    "    for k in par1.keys():\n",
    "        par1[k].data.mul_(decay).add_(par2[k].data, alpha=1 - decay)\n",
    "\n",
    "def prepare_dataloader(args):\n",
    "    my_transform = transforms.Compose(\n",
    "    [\n",
    "        transforms.RandomHorizontalFlip(),\n",
    "        transforms.Resize(args.img_size),\n",
    "        transforms.CenterCrop(args.center_crop),\n",
    "        transforms.Resize(args.img_size),\n",
    "        transforms.ToTensor(),\n",
    "        transforms.Normalize((0.5, 0.5, 0.5), (0.5, 0.5, 0.5), inplace=True),\n",
    "    ]\n",
    "    )\n",
    "    lmdb_ImageFolder = ImageFolderLMDB\n",
    "    train_dataset = lmdb_ImageFolder(args.train_path, transform = my_transform)\n",
    "    test_dataset = lmdb_ImageFolder(args.test_path, transform = my_transform)\n",
    "\n",
    "    train_loader = DataLoader(\n",
    "        train_dataset,\n",
    "        batch_size=args.batch,\n",
    "        sampler=data_sampler(train_dataset, shuffle=True, distributed=False),\n",
    "        drop_last=True,\n",
    "    )\n",
    "\n",
    "    test_loader = DataLoader(\n",
    "        test_dataset,\n",
    "        batch_size=args.batch,\n",
    "        sampler=data_sampler(test_dataset, shuffle=False, distributed=False),\n",
    "        drop_last=True,\n",
    "    )\n",
    "    for idx, (image,label) in enumerate(train_loader):\n",
    "        print(f\"image : {image.shape}\")\n",
    "        print(f\"label : {label.shape} {label[:10]}\")\n",
    "        break\n",
    "\n",
    "    plt.figure(figsize=(15, 2), dpi=100)\n",
    "    for idx, (image,label) in enumerate(test_loader):\n",
    "        plt.subplot(1,10, idx+1)\n",
    "        plt.title(num_to_label(label[idx].item())) ; plt.axis('off')\n",
    "        plt.imshow(denorm(to_np(image[idx].permute(1,2,0))))\n",
    "        if idx == 9:\n",
    "            break\n",
    "        \n",
    "    return train_loader, test_loader, image, label\n",
    "\n",
    "def data_sampler(dataset, shuffle, distributed):\n",
    "    if distributed:\n",
    "        return data.distributed.DistributedSampler(dataset, shuffle=shuffle)\n",
    "\n",
    "    if shuffle:\n",
    "        return data.RandomSampler(dataset)\n",
    "\n",
    "    else:\n",
    "        return data.SequentialSampler(dataset)\n",
    "\n",
    "def to_np(tensor):\n",
    "    return tensor.cpu().detach().numpy()\n",
    "\n",
    "def denorm(tensor):\n",
    "    return (tensor + 1)/2\n",
    "\n",
    "\n",
    "\n"
   ]
  },
  {
   "cell_type": "markdown",
   "metadata": {},
   "source": [
    "# Train"
   ]
  },
  {
   "cell_type": "code",
   "execution_count": 11,
   "metadata": {},
   "outputs": [
    {
     "ename": "ModuleNotFoundError",
     "evalue": "No module named 'lpips_pytorch'",
     "output_type": "error",
     "traceback": [
      "\u001b[0;31m---------------------------------------------------------------------------\u001b[0m",
      "\u001b[0;31mModuleNotFoundError\u001b[0m                       Traceback (most recent call last)",
      "\u001b[1;32m/mnt/aai/song/MyStylegan2/inference.ipynb Cell 5'\u001b[0m in \u001b[0;36m<cell line: 3>\u001b[0;34m()\u001b[0m\n\u001b[1;32m      <a href='vscode-notebook-cell://ssh-remote%2Blocalhost/mnt/aai/song/MyStylegan2/inference.ipynb#ch0000004vscode-remote?line=0'>1</a>\u001b[0m \u001b[39mimport\u001b[39;00m \u001b[39mos\u001b[39;00m\n\u001b[1;32m      <a href='vscode-notebook-cell://ssh-remote%2Blocalhost/mnt/aai/song/MyStylegan2/inference.ipynb#ch0000004vscode-remote?line=1'>2</a>\u001b[0m \u001b[39mfrom\u001b[39;00m \u001b[39mmy_models\u001b[39;00m \u001b[39mimport\u001b[39;00m \u001b[39m*\u001b[39m\n\u001b[0;32m----> <a href='vscode-notebook-cell://ssh-remote%2Blocalhost/mnt/aai/song/MyStylegan2/inference.ipynb#ch0000004vscode-remote?line=2'>3</a>\u001b[0m \u001b[39mfrom\u001b[39;00m \u001b[39mmy_train\u001b[39;00m \u001b[39mimport\u001b[39;00m \u001b[39m*\u001b[39m \n\u001b[1;32m      <a href='vscode-notebook-cell://ssh-remote%2Blocalhost/mnt/aai/song/MyStylegan2/inference.ipynb#ch0000004vscode-remote?line=3'>4</a>\u001b[0m \u001b[39mfrom\u001b[39;00m \u001b[39mpretrain_encoder\u001b[39;00m \u001b[39mimport\u001b[39;00m ResidualBlock, ResNet\n\u001b[1;32m      <a href='vscode-notebook-cell://ssh-remote%2Blocalhost/mnt/aai/song/MyStylegan2/inference.ipynb#ch0000004vscode-remote?line=5'>6</a>\u001b[0m \u001b[39mfrom\u001b[39;00m \u001b[39mtorch\u001b[39;00m \u001b[39mimport\u001b[39;00m nn, optim\n",
      "File \u001b[0;32m/mnt/aai/song/MyStylegan2/my_train.py:16\u001b[0m, in \u001b[0;36m<module>\u001b[0;34m\u001b[0m\n\u001b[1;32m     <a href='file:///mnt/aai/song/MyStylegan2/my_train.py?line=13'>14</a>\u001b[0m \u001b[39mfrom\u001b[39;00m \u001b[39mtqdm\u001b[39;00m \u001b[39mimport\u001b[39;00m tqdm\n\u001b[1;32m     <a href='file:///mnt/aai/song/MyStylegan2/my_train.py?line=14'>15</a>\u001b[0m \u001b[39mimport\u001b[39;00m \u001b[39mwandb\u001b[39;00m\n\u001b[0;32m---> <a href='file:///mnt/aai/song/MyStylegan2/my_train.py?line=15'>16</a>\u001b[0m \u001b[39mfrom\u001b[39;00m \u001b[39mlpips_pytorch\u001b[39;00m \u001b[39mimport\u001b[39;00m LPIPS, lpips\n\u001b[1;32m     <a href='file:///mnt/aai/song/MyStylegan2/my_train.py?line=17'>18</a>\u001b[0m \u001b[39mimport\u001b[39;00m \u001b[39margs\u001b[39;00m\n\u001b[1;32m     <a href='file:///mnt/aai/song/MyStylegan2/my_train.py?line=20'>21</a>\u001b[0m \u001b[39mdef\u001b[39;00m \u001b[39msample_data\u001b[39m(loader):\n",
      "\u001b[0;31mModuleNotFoundError\u001b[0m: No module named 'lpips_pytorch'"
     ]
    }
   ],
   "source": [
    "import os\n",
    "from my_models import *\n",
    "from my_train import * \n",
    "from pretrain_encoder import ResidualBlock, ResNet\n",
    "\n",
    "from torch import nn, optim\n",
    "\n",
    "import args\n",
    "import wandb\n",
    "\n",
    "today = datetime.date.today()\n",
    "device = torch.device(f\"cuda:{args.gpu_num}\" if torch.cuda.is_available() else 'cpu')\n",
    "torch.cuda.set_device(device) # change allocation of current GPU\n",
    "print(f'오늘 날짜 : {today}')\n",
    "print(f'cuda device : {device}')\n",
    "\n",
    "n_gpu = int(os.environ[\"WORLD_SIZE\"]) if \"WORLD_SIZE\" in os.environ else 1\n",
    "print(f\"n_gpu : {n_gpu}\")\n",
    "args.distributed = n_gpu >= 2 \n",
    "\n",
    "train_loader, test_loader, image, label = prepare_dataloader(args)\n",
    "\n",
    "\n",
    "E = ResNet(return_features=True).to(device)\n",
    "E.load_state_dict(torch.load(\"pretrained/classifier/ResNet_64_parameters_smiling.pt\"))\n",
    "pred, feat_list = E(image.to(device))\n",
    "G = Generator(feat_list, size=args.img_size, style_dim=args.latent).to(device)\n",
    "_, styles = G(feat_list)\n",
    "D = Discriminator(args.img_size, args.latent).to(device)\n",
    "g_ema = Generator(feat_list, size=args.img_size, style_dim=args.latent).to(device)\n",
    "P = Predictor(styles, args.disc_latent_ratio).to(device)\n",
    "\n",
    "g_ema.eval()\n",
    "accumulate(g_ema, G, 0)\n",
    "\n",
    "\n",
    "e_reg_ratio = args.d_reg_every / (args.d_reg_every + 1)\n",
    "g_reg_ratio = args.g_reg_every / (args.g_reg_every + 1)\n",
    "d_reg_ratio = args.d_reg_every / (args.d_reg_every + 1)\n",
    "\n",
    "recon_optim = optim.Adam(G.parameters(),lr=args.lr * g_reg_ratio, betas=(0 ** g_reg_ratio, 0.99 ** g_reg_ratio))\n",
    "g_optim = optim.Adam(G.parameters(), lr=args.lr * g_reg_ratio, betas=(0 ** g_reg_ratio, 0.99 ** g_reg_ratio))\n",
    "d_optim = optim.Adam(D.parameters(), lr=args.lr * d_reg_ratio, betas=(0 ** d_reg_ratio, 0.99 ** d_reg_ratio))\n",
    "p_optim = optim.Adam(P.parameters(), lr=args.lr * g_reg_ratio, betas=(0 ** g_reg_ratio, 0.99 ** g_reg_ratio))"
   ]
  },
  {
   "cell_type": "code",
   "execution_count": 16,
   "metadata": {},
   "outputs": [
    {
     "data": {
      "text/html": [
       "Finishing last run (ID:2rof3k6l) before initializing another..."
      ],
      "text/plain": [
       "<IPython.core.display.HTML object>"
      ]
     },
     "metadata": {},
     "output_type": "display_data"
    },
    {
     "data": {
      "text/html": [
       "<br/>Waiting for W&B process to finish, PID 35666<br/>Program ended successfully."
      ],
      "text/plain": [
       "<IPython.core.display.HTML object>"
      ]
     },
     "metadata": {},
     "output_type": "display_data"
    },
    {
     "data": {
      "application/vnd.jupyter.widget-view+json": {
       "model_id": "5b7afc7a6aa84629aff3591211bcd74d",
       "version_major": 2,
       "version_minor": 0
      },
      "text/plain": [
       "VBox(children=(Label(value=' 0.28MB of 0.28MB uploaded (0.00MB deduped)\\r'), FloatProgress(value=1.0, max=1.0)…"
      ]
     },
     "metadata": {},
     "output_type": "display_data"
    },
    {
     "data": {
      "text/html": [
       "Find user logs for this run at: <code>/mnt/aai/song/MyStylegan2/wandb/run-20220507_130709-2rof3k6l/logs/debug.log</code>"
      ],
      "text/plain": [
       "<IPython.core.display.HTML object>"
      ]
     },
     "metadata": {},
     "output_type": "display_data"
    },
    {
     "data": {
      "text/html": [
       "Find internal logs for this run at: <code>/mnt/aai/song/MyStylegan2/wandb/run-20220507_130709-2rof3k6l/logs/debug-internal.log</code>"
      ],
      "text/plain": [
       "<IPython.core.display.HTML object>"
      ]
     },
     "metadata": {},
     "output_type": "display_data"
    },
    {
     "data": {
      "text/html": [
       "<h3>Run summary:</h3><br/><style>\n",
       "    table.wandb td:nth-child(1) { padding: 0 10px; text-align: right }\n",
       "    </style><table class=\"wandb\">\n",
       "<tr><td>Pred</td><td>0.68908</td></tr><tr><td>Recon</td><td>28.95659</td></tr><tr><td>Generator</td><td>0.69162</td></tr><tr><td>Discriminator</td><td>1.17789</td></tr><tr><td>Augment</td><td>0</td></tr><tr><td>Rt</td><td>0</td></tr><tr><td>R1</td><td>0.00884</td></tr><tr><td>Path Length Regularization</td><td>6.03554</td></tr><tr><td>Mean Path Length</td><td>0</td></tr><tr><td>Real Score</td><td>0.58716</td></tr><tr><td>Fake Score</td><td>0.07793</td></tr><tr><td>Path Length</td><td>0.90569</td></tr><tr><td>_runtime</td><td>19</td></tr><tr><td>_timestamp</td><td>1651928855</td></tr><tr><td>_step</td><td>2</td></tr><tr><td>Accuracy</td><td>100.0</td></tr></table>"
      ],
      "text/plain": [
       "<IPython.core.display.HTML object>"
      ]
     },
     "metadata": {},
     "output_type": "display_data"
    },
    {
     "data": {
      "text/html": [
       "<h3>Run history:</h3><br/><style>\n",
       "    table.wandb td:nth-child(1) { padding: 0 10px; text-align: right }\n",
       "    </style><table class=\"wandb\">\n",
       "<tr><td>Pred</td><td>▁</td></tr><tr><td>Recon</td><td>▁</td></tr><tr><td>Generator</td><td>▁</td></tr><tr><td>Discriminator</td><td>▁</td></tr><tr><td>Augment</td><td>▁</td></tr><tr><td>Rt</td><td>▁</td></tr><tr><td>R1</td><td>▁</td></tr><tr><td>Path Length Regularization</td><td>▁</td></tr><tr><td>Mean Path Length</td><td>▁</td></tr><tr><td>Real Score</td><td>▁</td></tr><tr><td>Fake Score</td><td>▁</td></tr><tr><td>Path Length</td><td>▁</td></tr><tr><td>_runtime</td><td>▁▁█</td></tr><tr><td>_timestamp</td><td>▁▁█</td></tr><tr><td>_step</td><td>▁▅█</td></tr><tr><td>Accuracy</td><td>▁</td></tr></table><br/>"
      ],
      "text/plain": [
       "<IPython.core.display.HTML object>"
      ]
     },
     "metadata": {},
     "output_type": "display_data"
    },
    {
     "data": {
      "text/html": [
       "Synced 6 W&B file(s), 2 media file(s), 0 artifact file(s) and 0 other file(s)"
      ],
      "text/plain": [
       "<IPython.core.display.HTML object>"
      ]
     },
     "metadata": {},
     "output_type": "display_data"
    },
    {
     "data": {
      "text/html": [
       "\n",
       "                    <br/>Synced <strong style=\"color:#cdcd00\">after disc_latent_ratio 0.5</strong>: <a href=\"https://wandb.ai/songyj/StyleGAN2/runs/2rof3k6l\" target=\"_blank\">https://wandb.ai/songyj/StyleGAN2/runs/2rof3k6l</a><br/>\n",
       "                "
      ],
      "text/plain": [
       "<IPython.core.display.HTML object>"
      ]
     },
     "metadata": {},
     "output_type": "display_data"
    },
    {
     "data": {
      "text/html": [
       "...Successfully finished last run (ID:2rof3k6l). Initializing new run:<br/><br/>"
      ],
      "text/plain": [
       "<IPython.core.display.HTML object>"
      ]
     },
     "metadata": {},
     "output_type": "display_data"
    },
    {
     "name": "stderr",
     "output_type": "stream",
     "text": [
      "\u001b[34m\u001b[1mwandb\u001b[0m: wandb version 0.12.16 is available!  To upgrade, please run:\n",
      "\u001b[34m\u001b[1mwandb\u001b[0m:  $ pip install wandb --upgrade\n"
     ]
    },
    {
     "data": {
      "text/html": [
       "\n",
       "                Tracking run with wandb version 0.12.1<br/>\n",
       "                Syncing run <strong style=\"color:#cdcd00\">after disc_latent_ratio 0.5</strong> to <a href=\"https://wandb.ai\" target=\"_blank\">Weights & Biases</a> <a href=\"https://docs.wandb.com/integrations/jupyter.html\" target=\"_blank\">(Documentation)</a>.<br/>\n",
       "                Project page: <a href=\"https://wandb.ai/songyj/StyleGAN2\" target=\"_blank\">https://wandb.ai/songyj/StyleGAN2</a><br/>\n",
       "                Run page: <a href=\"https://wandb.ai/songyj/StyleGAN2/runs/36hof2bh\" target=\"_blank\">https://wandb.ai/songyj/StyleGAN2/runs/36hof2bh</a><br/>\n",
       "                Run data is saved locally in <code>/mnt/aai/song/MyStylegan2/wandb/run-20220507_130747-36hof2bh</code><br/><br/>\n",
       "            "
      ],
      "text/plain": [
       "<IPython.core.display.HTML object>"
      ]
     },
     "metadata": {},
     "output_type": "display_data"
    },
    {
     "name": "stdout",
     "output_type": "stream",
     "text": [
      "Description : after disc_latent_ratio 0.5\n"
     ]
    },
    {
     "name": "stderr",
     "output_type": "stream",
     "text": [
      "d: 0.0706; g: 4.0273; p: 0.7297; r1: 0.0504; path: 0.2725; mean path: 0.0140; p: 0.0128; recon_loss: 28.6717;:   0%|          | 200/800000 [12:10<1000:58:37,  4.51s/it]"
     ]
    },
    {
     "ename": "Error",
     "evalue": "Canceled future for execute_request message before replies were done",
     "output_type": "error",
     "traceback": [
      "Error: Canceled future for execute_request message before replies were done",
      "at t.KernelShellFutureHandler.dispose (/root/.vscode-server/extensions/ms-toolsai.jupyter-2022.3.1000901801/out/extension.js:2:1204175)",
      "at /root/.vscode-server/extensions/ms-toolsai.jupyter-2022.3.1000901801/out/extension.js:2:1223227",
      "at Map.forEach (<anonymous>)",
      "at v._clearKernelState (/root/.vscode-server/extensions/ms-toolsai.jupyter-2022.3.1000901801/out/extension.js:2:1223212)",
      "at v.dispose (/root/.vscode-server/extensions/ms-toolsai.jupyter-2022.3.1000901801/out/extension.js:2:1216694)",
      "at /root/.vscode-server/extensions/ms-toolsai.jupyter-2022.3.1000901801/out/extension.js:2:533674",
      "at t.swallowExceptions (/root/.vscode-server/extensions/ms-toolsai.jupyter-2022.3.1000901801/out/extension.js:2:913059)",
      "at dispose (/root/.vscode-server/extensions/ms-toolsai.jupyter-2022.3.1000901801/out/extension.js:2:533652)",
      "at t.RawSession.dispose (/root/.vscode-server/extensions/ms-toolsai.jupyter-2022.3.1000901801/out/extension.js:2:537330)",
      "at runMicrotasks (<anonymous>)",
      "at processTicksAndRejections (node:internal/process/task_queues:96:5)"
     ]
    }
   ],
   "source": [
    "if args.ckpt is not None:\n",
    "    print(\"load model:\", args.ckpt)\n",
    "\n",
    "    ckpt = torch.load(args.ckpt, map_location=lambda storage, loc: storage)\n",
    "\n",
    "    try:\n",
    "        ckpt_name = os.path.basename(args.ckpt)\n",
    "        args.start_iter = int(os.path.splitext(ckpt_name)[0])\n",
    "\n",
    "    except ValueError:\n",
    "        pass\n",
    "\n",
    "    E.load_state_dict(ckpt[\"e\"])\n",
    "    G.load_state_dict(ckpt[\"g\"])\n",
    "    D.load_state_dict(ckpt[\"d\"])\n",
    "    g_ema.load_state_dict(ckpt[\"g_ema\"])\n",
    "    recon_optim.load_state_dict(ckpt[\"recon_optim\"])\n",
    "    g_optim.load_state_dict(ckpt[\"g_optim\"])\n",
    "    d_optim.load_state_dict(ckpt[\"d_optim\"])\n",
    "\n",
    "\n",
    "if args.wandb:\n",
    "    wandb.init(project=\"StyleGAN2\", entity='songyj', name=args.description,\n",
    "               config=get_config_from_args(args))\n",
    "torch.autograd.set_detect_anomaly(False) ; print(f\"Description : {args.description}\")\n",
    "train(args, train_loader, test_loader, E, G, D, P, recon_optim, p_optim, g_optim, d_optim, g_ema, today, device)\n"
   ]
  },
  {
   "cell_type": "markdown",
   "metadata": {},
   "source": [
    "# Test and Debug"
   ]
  },
  {
   "cell_type": "code",
   "execution_count": null,
   "metadata": {},
   "outputs": [
    {
     "data": {
      "text/plain": [
       "ModuleList(\n",
       "  (0): EqualLinear(32, 128)\n",
       "  (1): EqualLinear(32, 128)\n",
       "  (2): EqualLinear(32, 128)\n",
       "  (3): EqualLinear(32, 128)\n",
       "  (4): EqualLinear(32, 128)\n",
       "  (5): EqualLinear(32, 128)\n",
       "  (6): EqualLinear(32, 128)\n",
       "  (7): EqualLinear(32, 128)\n",
       "  (8): EqualLinear(32, 128)\n",
       "  (9): EqualLinear(32, 64)\n",
       "  (10): EqualLinear(32, 64)\n",
       "  (11): EqualLinear(32, 64)\n",
       "  (12): EqualLinear(32, 32)\n",
       "  (13): EqualLinear(32, 32)\n",
       ")"
      ]
     },
     "execution_count": 14,
     "metadata": {},
     "output_type": "execute_result"
    }
   ],
   "source": [
    "G.style_to_spaces"
   ]
  },
  {
   "cell_type": "code",
   "execution_count": null,
   "metadata": {},
   "outputs": [],
   "source": [
    "image = image.to(device)\n",
    "checkpoint = torch.load(\"checkpoint/2022-04-29_w/ acc log, w/o KLD/060000.pt\")\n",
    "G.load_state_dict(checkpoint['g'])\n",
    "P.load_state_dict(checkpoint['p'])\n",
    "_, feat_list = E(image)"
   ]
  },
  {
   "cell_type": "code",
   "execution_count": null,
   "metadata": {},
   "outputs": [
    {
     "data": {
      "text/plain": [
       "<matplotlib.image.AxesImage at 0x7ff1879e16a0>"
      ]
     },
     "execution_count": 147,
     "metadata": {},
     "output_type": "execute_result"
    },
    {
     "data": {
      "image/png": "[encoded data removed]",
      "text/plain": [
       "<Figure size 432x288 with 1 Axes>"
      ]
     },
     "metadata": {
      "needs_background": "light"
     },
     "output_type": "display_data"
    }
   ],
   "source": [
    "styles = G.get_space_from_feat(feat_list)\n",
    "fake_img, _ = G(styles, input_type='styles')\n",
    "# plt.subplot(2,7, idx+1)\n",
    "plt.axis('off')\n",
    "plt.imshow(denorm(to_np(fake_img[16].permute(1,2,0))))"
   ]
  },
  {
   "cell_type": "code",
   "execution_count": null,
   "metadata": {},
   "outputs": [
    {
     "data": {
      "text/plain": [
       "<matplotlib.image.AxesImage at 0x7ff1865590d0>"
      ]
     },
     "execution_count": 175,
     "metadata": {},
     "output_type": "execute_result"
    },
    {
     "data": {
      "image/png": "[encoded data removed]",
      "text/plain": [
       "<Figure size 432x288 with 2 Axes>"
      ]
     },
     "metadata": {
      "needs_background": "light"
     },
     "output_type": "display_data"
    }
   ],
   "source": [
    "img_idx = 16\n",
    "space = 13\n",
    "att = 30\n",
    "\n",
    "styles = G.get_space_from_feat(feat_list)\n",
    "fake_img, _ = G(styles, input_type='styles')\n",
    "\n",
    "plt.subplot(1,2,1)\n",
    "plt.axis('off')\n",
    "plt.imshow(denorm(to_np(fake_img[img_idx].permute(1,2,0))))\n",
    "# plt.figure(figsize=(15, 5), dpi=100)\n",
    "# for idx in range(14):\n",
    "styles = G.get_space_from_feat(feat_list)\n",
    "styles[space][:att] += 1\n",
    "fake_img, _ = G(styles, input_type='styles')\n",
    "# plt.subplot(2,7, idx+1)\n",
    "plt.subplot(1,2,2)\n",
    "plt.axis('off')\n",
    "plt.imshow(denorm(to_np(fake_img[img_idx].permute(1,2,0))))\n"
   ]
  },
  {
   "cell_type": "code",
   "execution_count": null,
   "metadata": {},
   "outputs": [
    {
     "data": {
      "text/plain": [
       "512.4451190127583"
      ]
     },
     "execution_count": 176,
     "metadata": {},
     "output_type": "execute_result"
    }
   ],
   "source": [
    "import math \n",
    "math.sqrt((30*17)**2 + 50**2)"
   ]
  },
  {
   "cell_type": "code",
   "execution_count": 1,
   "metadata": {},
   "outputs": [
    {
     "name": "stderr",
     "output_type": "stream",
     "text": [
      "/home/aai/anaconda3/envs/stylegan2/lib/python3.8/site-packages/tqdm/auto.py:22: TqdmWarning: IProgress not found. Please update jupyter and ipywidgets. See https://ipywidgets.readthedocs.io/en/stable/user_install.html\n",
      "  from .autonotebook import tqdm as notebook_tqdm\n"
     ]
    }
   ],
   "source": [
    "import torch"
   ]
  },
  {
   "cell_type": "code",
   "execution_count": 12,
   "metadata": {},
   "outputs": [
    {
     "data": {
      "text/plain": [
       "torch.Size([9])"
      ]
     },
     "execution_count": 12,
     "metadata": {},
     "output_type": "execute_result"
    }
   ],
   "source": [
    "a = [torch.Tensor([1*x,2*x,3*x]) for x in range(3)]\n",
    "torch.cat(a).shape"
   ]
  },
  {
   "cell_type": "code",
   "execution_count": 14,
   "metadata": {},
   "outputs": [],
   "source": [
    "import torch\n",
    "from torch import autograd, nn "
   ]
  },
  {
   "cell_type": "code",
   "execution_count": null,
   "metadata": {},
   "outputs": [],
   "source": [
    "\n",
    "\n",
    "autograd.grad()"
   ]
  }
 ],
 "metadata": {
  "interpreter": {
   "hash": "67001fafcca4e64bab50c660f7f3031a607217ffd4b570286cce1f9b60e7d286"
  },
  "kernelspec": {
   "display_name": "Python 3.8.13 ('stylegan2')",
   "language": "python",
   "name": "python3"
  },
  "language_info": {
   "codemirror_mode": {
    "name": "ipython",
    "version": 3
   },
   "file_extension": ".py",
   "mimetype": "text/x-python",
   "name": "python",
   "nbconvert_exporter": "python",
   "pygments_lexer": "ipython3",
   "version": "3.8.13"
  },
  "orig_nbformat": 4
 },
 "nbformat": 4,
 "nbformat_minor": 2
}
