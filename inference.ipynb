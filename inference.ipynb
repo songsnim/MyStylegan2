{
 "cells": [],
 "metadata": {
  "interpreter": {
   "hash": "247049eeb34f174b04965bc577ed463b287b137350a1582c02706099f5223a8e"
  },
  "kernelspec": {
   "display_name": "Python 3.8.12 ('song_stylegan2')",
   "language": "python",
   "name": "python3"
  },
  "language_info": {
   "codemirror_mode": {
    "name": "ipython",
    "version": 3
   },
   "file_extension": ".py",
   "mimetype": "text/x-python",
   "name": "python",
   "nbconvert_exporter": "python",
   "pygments_lexer": "ipython3",
   "version": "3.8.12"
  },
  "orig_nbformat": 4
 },
 "nbformat": 4,
 "nbformat_minor": 2
}
